{
  "nbformat": 4,
  "nbformat_minor": 0,
  "metadata": {
    "colab": {
      "provenance": []
    },
    "kernelspec": {
      "name": "python3",
      "display_name": "Python 3"
    },
    "language_info": {
      "name": "python"
    }
  },
  "cells": [
    {
      "cell_type": "code",
      "execution_count": 1,
      "metadata": {
        "id": "AcGdtuzNDFCJ"
      },
      "outputs": [],
      "source": [
        "import numpy as np"
      ]
    },
    {
      "cell_type": "code",
      "source": [
        "# Problem 01\n",
        "def l_k(data_x , k,x):\n",
        "  l_k = 1\n",
        "  for i in range(len(data_x)):\n",
        "    if (i!=k) and (i%2!=0) :\n",
        "      l_k*=((x-data_x[i])/(data_x[k]-data_x[i]))\n",
        "  return l_k\n",
        "\n",
        "def get_poly_lagrange(data_x,data_y,x_arr):\n",
        "  output = []\n",
        "  for j in range(len(x_arr)):\n",
        "    sum = 0\n",
        "    for k in range(len(data_x)):\n",
        "      if (k%2==0):\n",
        "        sum+=data_y[k]*l_k(data_x,k,x_arr[j])\n",
        "    output.append(sum)\n",
        "  return output\n",
        "x_arr = np.linspace(5,11,35)\n",
        "da_x = [0,3,4,7,13]\n",
        "da_y = [5,8,11,19,26]\n",
        "print(get_poly_lagrange(da_x,da_y,x_arr))"
      ],
      "metadata": {
        "colab": {
          "base_uri": "https://localhost:8080/"
        },
        "id": "1sO8tnL0DKXo",
        "outputId": "90cb4e0b-4322-4491-e9f6-e0cacbd38173"
      },
      "execution_count": 4,
      "outputs": [
        {
          "output_type": "stream",
          "name": "stdout",
          "text": [
            "[np.float64(11.980952380952381), np.float64(11.887675070028012), np.float64(11.607843137254905), np.float64(11.141456582633053), np.float64(10.488515406162465), np.float64(9.649019607843137), np.float64(8.622969187675071), np.float64(7.410364145658262), np.float64(6.0112044817927135), np.float64(4.425490196078434), np.float64(2.6532212885154065), np.float64(0.6943977591036391), np.float64(-1.4509803921568576), np.float64(-3.782913165266117), np.float64(-6.301400560224091), np.float64(-9.006442577030818), np.float64(-11.898039215686282), np.float64(-14.976190476190476), np.float64(-18.240896358543402), np.float64(-21.692156862745108), np.float64(-25.32997198879552), np.float64(-29.154341736694697), np.float64(-33.16526610644258), np.float64(-37.36274509803921), np.float64(-41.74677871148457), np.float64(-46.31736694677872), np.float64(-51.074509803921615), np.float64(-56.0182072829132), np.float64(-61.14845938375351), np.float64(-66.46526610644256), np.float64(-71.96862745098042), np.float64(-77.65854341736696), np.float64(-83.53501400560226), np.float64(-89.5980392156863), np.float64(-95.84761904761905)]\n"
          ]
        }
      ]
    }
  ]
}